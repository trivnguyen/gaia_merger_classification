{
 "cells": [
  {
   "cell_type": "markdown",
   "id": "eb3e8b62",
   "metadata": {},
   "source": [
    "Classify star particles in the FIRE Milky Way simulation. We determine whether a star particle is accreted or formed in situ with its host galaxy.\n",
    "\n",
    "We use the formation distance to determine whether a star particle is accreted. If the distance from a star particle to its host galaxy at the time of its formation is greater than 20 kpc. it is classified as accreted. "
   ]
  },
  {
   "cell_type": "code",
   "execution_count": 1,
   "id": "c2a2289d",
   "metadata": {},
   "outputs": [],
   "source": [
    "import os\n",
    "import h5py\n",
    "\n",
    "import numpy as np\n",
    "import matplotlib as mpl\n",
    "import matplotlib.pyplot as plt\n",
    "import pandas as pd\n",
    "\n",
    "%matplotlib inline\n",
    "\n",
    "mpl.rc('font', size=15)\n",
    "mpl.rc('figure', figsize=(8, 6), facecolor='w')\n",
    "\n",
    "import gizmo_analysis as gizmo"
   ]
  },
  {
   "cell_type": "code",
   "execution_count": 2,
   "id": "73043535",
   "metadata": {},
   "outputs": [],
   "source": [
    "# create an output directory\n",
    "os.makedirs('labels_mapping', exist_ok=True)"
   ]
  },
  {
   "cell_type": "code",
   "execution_count": 3,
   "id": "378c1dc4",
   "metadata": {},
   "outputs": [
    {
     "name": "stdout",
     "output_type": "stream",
     "text": [
      "\n",
      "# in utilities.simulation.Snapshot():\n",
      "* reading:  scratch/projects/xsede/GalaxiesOnFIRE/metal_diffusion/m12i_res7100/snapshot_times.txt\n",
      "\n",
      "* input redshift = 0:  using snapshot index = 600, redshift = 0.000\n",
      "\n",
      "\n",
      "# in gizmo_analysis.gizmo_io.Read():\n",
      "* reading header from:  scratch/projects/xsede/GalaxiesOnFIRE/metal_diffusion/m12i_res7100/output/snapdir_600/snapshot_600.0.hdf5\n",
      "  snapshot contains the following number of particles:\n",
      "    dark      (id = 1): 70514272 particles\n",
      "    dark2     (id = 2): 5513331 particles\n",
      "    gas       (id = 0): 57060074 particles\n",
      "    star      (id = 4): 13976485 particles\n",
      "    blackhole (id = 5): 0 particles\n",
      "\n",
      "* reading species: ['star']\n",
      "* reading particles from:\n",
      "    snapshot_600.0.hdf5\n",
      "    snapshot_600.1.hdf5\n",
      "    snapshot_600.2.hdf5\n",
      "    snapshot_600.3.hdf5\n",
      "\n",
      "* reading cosmological parameters from:  scratch/projects/xsede/GalaxiesOnFIRE/metal_diffusion/m12i_res7100/initial_condition/ic_agora_m12i.conf\n",
      "\n",
      "* checking sanity of particle properties\n",
      "\n",
      "\n",
      "# in gizmo_analysis.gizmo_track.ParticleCoordinate():\n",
      "  read 1 host (position, velocity, principal axes) from:  scratch/projects/xsede/GalaxiesOnFIRE/metal_diffusion/m12i_res7100/track/host_coordinates.hdf5\n",
      "  host1 position = (41792.15, 44131.23, 46267.68) [kpc comoving]\n",
      "  host1 velocity = (-52.2, 73.6, 94.7) [km / s]\n",
      "  host1 axis ratios = (0.16, 0.16, 0.99)\n",
      "  \n",
      "  read formation coordinates for star particles at snapshot 600\n",
      "\n"
     ]
    }
   ],
   "source": [
    "# set simulation directory to simulated galaxy\n",
    "simulation_directory = '/scratch/projects/xsede/GalaxiesOnFIRE/metal_diffusion/m12i_res7100'\n",
    "\n",
    "# read star particles at redshift z=0\n",
    "# setting assign_formation_coordinates=True to read formation coordinates of star particles\n",
    "part = gizmo.io.Read.read_snapshots(\n",
    "    ['star'], 'redshift', 0, simulation_directory,\n",
    "    assign_formation_coordinates=True)"
   ]
  },
  {
   "cell_type": "code",
   "execution_count": 4,
   "id": "e64233f7",
   "metadata": {},
   "outputs": [
    {
     "name": "stdout",
     "output_type": "stream",
     "text": [
      "Max formation distance: 2876.858154\n",
      "Min formation distance: 0.000375\n"
     ]
    }
   ],
   "source": [
    "# get formation coordinates in Cartesian and calculate distance\n",
    "form_distance = np.sqrt(np.sum(part['star']['form.host.distance']**2, 1))\n",
    "max_form_distance = np.max(form_distance)\n",
    "min_form_distance = np.min(form_distance)\n",
    "\n",
    "print('Max formation distance: {:f}'.format(max_form_distance))\n",
    "print('Min formation distance: {:f}'.format(min_form_distance))"
   ]
  },
  {
   "cell_type": "code",
   "execution_count": 5,
   "id": "b64a66af",
   "metadata": {},
   "outputs": [
    {
     "name": "stdout",
     "output_type": "stream",
     "text": [
      "Number of in situ star particles: 11551935\n",
      "Number of accreted star particles: 2424550\n",
      "Fraction of in situ star particles: 0.826526\n",
      "Fraction of accreted star particles: 0.173474\n"
     ]
    }
   ],
   "source": [
    "thres = 20    # set threshold to 20 kpc\n",
    "\n",
    "mask_insitu = form_distance < thres\n",
    "form_distance_insitu = form_distance[mask_insitu]\n",
    "form_distance_accreted = form_distance[~mask_insitu]\n",
    "\n",
    "n_insitu = len(form_distance_insitu)\n",
    "n_accreted = len(form_distance_accreted)\n",
    "n_total = len(form_distance)\n",
    "\n",
    "print('Number of in situ star particles: {:d}'.format(n_insitu))\n",
    "print('Number of accreted star particles: {:d}'.format(n_accreted))\n",
    "\n",
    "print('Fraction of in situ star particles: {:4f}'.format(n_insitu / n_total))\n",
    "print('Fraction of accreted star particles: {:4f}'.format(n_accreted / n_total))"
   ]
  },
  {
   "cell_type": "code",
   "execution_count": 11,
   "id": "8720db82",
   "metadata": {},
   "outputs": [
    {
     "data": {
      "image/png": "[encoded data removed]",
      "text/plain": [
       "<Figure size 864x360 with 2 Axes>"
      ]
     },
     "metadata": {},
     "output_type": "display_data"
    }
   ],
   "source": [
    "# plot histogram of formation distance for in situ and accreted stars separatedly\n",
    "fig, (ax1, ax2) = plt.subplots(1, 2, figsize=(12, 5), sharey=True)\n",
    "\n",
    "# hist for in situ stars\n",
    "bins_insitu = np.linspace(0., 20, 50)\n",
    "ax1.hist(form_distance_insitu, bins_insitu, \n",
    "         histtype='step', lw=2)\n",
    "\n",
    "# hist for accreted stars\n",
    "bins_accreted = np.linspace(0., 3000, 50)\n",
    "ax2.hist(form_distance_accreted, bins_accreted, \n",
    "         histtype='step', lw=2)\n",
    "\n",
    "# format axes and figure\n",
    "for ax in (ax1, ax2):\n",
    "    ax.set_xlabel('Formation Distance [kpc]')\n",
    "    ax.set_yscale('log')\n",
    "    ax.grid(True)\n",
    "\n",
    "ax1.set_ylabel('Counts')\n",
    "ax1.set_title('In situ star particles')\n",
    "ax2.set_title('Accreted star particles')\n",
    "ax1.legend(['N = {}'.format(n_insitu)])\n",
    "ax2.legend(['N = {}'.format(n_accreted)])\n",
    "\n",
    "fig.tight_layout()\n",
    "fig.savefig('../figures/dataset_prop/formation_distance_particles.png', \n",
    "            bbox_inches='tight', dpi=300)"
   ]
  },
  {
   "cell_type": "code",
   "execution_count": 7,
   "id": "889d84d4",
   "metadata": {},
   "outputs": [],
   "source": [
    "# create labels for in situ (0) and accreted stars (1)\n",
    "labels = (~mask_insitu).astype(int)\n",
    "id_stars = np.arange(len(labels), dtype=int)\n",
    "\n",
    "# write output to HDF5 file\n",
    "with h5py.File('labels_mapping/accreted_insitu.hdf5', 'w') as f:\n",
    "    f.attrs.update({\n",
    "        '0': 'insitu',\n",
    "        '1': 'accreted',\n",
    "        'formation_distance_threshold': thres,\n",
    "    })\n",
    "    f.create_dataset('id_stars', data=id_stars, chunks=True)\n",
    "    f.create_dataset('labels', data=labels, chunks=True)\n",
    "    f.create_dataset('form_distance', data=form_distance, chunks=True)"
   ]
  }
 ],
 "metadata": {
  "kernelspec": {
   "display_name": "Python 3",
   "language": "python",
   "name": "python3"
  },
  "language_info": {
   "codemirror_mode": {
    "name": "ipython",
    "version": 3
   },
   "file_extension": ".py",
   "mimetype": "text/x-python",
   "name": "python",
   "nbconvert_exporter": "python",
   "pygments_lexer": "ipython3",
   "version": "3.7.11"
  }
 },
 "nbformat": 4,
 "nbformat_minor": 5
}
