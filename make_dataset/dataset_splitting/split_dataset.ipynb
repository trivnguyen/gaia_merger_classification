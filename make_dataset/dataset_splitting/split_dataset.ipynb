{
 "cells": [
  {
   "cell_type": "code",
   "execution_count": 1,
   "id": "a1b17b05",
   "metadata": {},
   "outputs": [],
   "source": [
    "import os\n",
    "import sys\n",
    "import h5py\n",
    "import json\n",
    "import glob\n",
    "\n",
    "import numpy as np\n",
    "from sklearn.model_selection import train_test_split\n",
    "import matplotlib as mpl\n",
    "import matplotlib.pyplot as plt\n",
    "\n",
    "%matplotlib inline\n",
    "\n",
    "mpl.style.use('seaborn-colorblind')\n",
    "mpl.rc('font', size=15)\n",
    "mpl.rc('figure', figsize=(8, 6))"
   ]
  },
  {
   "cell_type": "markdown",
   "id": "b1b0a49b",
   "metadata": {},
   "source": [
    "## Split the dataset randomly by stars\n",
    "\n",
    "In this section, we split the dataset into a train, validation, and test set randomly based on a given proportion. Because the dataset is split randomly, stars that belong to the same stream/cluster (same `parentid`) can belong to different dataset. This can potentially overfit, because the network can simple remember the properties of each stream. In the section below, we will split the dataset by stream, such that no stream in the training dataset would appear in the validation set."
   ]
  },
  {
   "cell_type": "code",
   "execution_count": 3,
   "id": "54707d13",
   "metadata": {},
   "outputs": [
    {
     "data": {
      "text/plain": [
       "['/scratch/08317/tg876168/ananke_subsamples/m12i/lsr-0/accreted_stellar_mass_all/lsr-0-rslice-0.m12i-res7100-subsamples.hdf5',\n",
       " '/scratch/08317/tg876168/ananke_subsamples/m12i/lsr-0/accreted_stellar_mass_all/lsr-0-rslice-1.m12i-res7100-subsamples.hdf5']"
      ]
     },
     "execution_count": 3,
     "metadata": {},
     "output_type": "execute_result"
    }
   ],
   "source": [
    "# sim_dir = '/scratch/08317/tg876168/ananke_subsamples/m12i/lsr-0/'\n",
    "sim_dir = '/scratch/08317/tg876168/ananke_subsamples/m12i/lsr-0/accreted_stellar_mass_all/'\n",
    "sim_files = sorted(glob.glob(os.path.join(sim_dir, '*.hdf5')))\n",
    "sim_files"
   ]
  },
  {
   "cell_type": "code",
   "execution_count": 4,
   "id": "e7db49fd",
   "metadata": {},
   "outputs": [
    {
     "name": "stdout",
     "output_type": "stream",
     "text": [
      "['b', 'dec', 'feh', 'l', 'labels', 'parallax', 'parallax_over_error', 'parentid', 'pmdec', 'pmra', 'px_true', 'py_true', 'pz_true', 'ra', 'radial_velocity', 'source_id', 'vx_true', 'vy_true', 'vz_true']\n",
      "411177\n",
      "['b', 'dec', 'feh', 'l', 'labels', 'parallax', 'parallax_over_error', 'parentid', 'pmdec', 'pmra', 'px_true', 'py_true', 'pz_true', 'ra', 'radial_velocity', 'source_id', 'vx_true', 'vy_true', 'vz_true']\n",
      "53\n"
     ]
    }
   ],
   "source": [
    "for i_file in range(len(sim_files)):\n",
    "    with h5py.File(sim_files[i_file], 'r') as f:\n",
    "        print(list(f.keys()))\n",
    "        print(f['ra'].len())"
   ]
  },
  {
   "cell_type": "code",
   "execution_count": 5,
   "id": "15c5591a",
   "metadata": {},
   "outputs": [],
   "source": [
    "keys = ('l', 'b', 'parallax', 'pmra', 'pmdec', 'radial_velocity', 'feh', 'labels')"
   ]
  },
  {
   "cell_type": "code",
   "execution_count": 6,
   "id": "8c2081d4",
   "metadata": {},
   "outputs": [],
   "source": [
    "full_data = []\n",
    "for sim_file in sim_files:\n",
    "    with h5py.File(sim_file, 'r') as input_f:\n",
    "        full_data.append(input_f['labels'][:])\n",
    "full_data = np.concatenate(full_data)"
   ]
  },
  {
   "cell_type": "code",
   "execution_count": 11,
   "id": "230223fa",
   "metadata": {},
   "outputs": [
    {
     "data": {
      "text/plain": [
       "array([[1.00000000e+00, 6.20264064e+08],\n",
       "       [1.00000000e+00, 6.20264064e+08],\n",
       "       [1.00000000e+00, 6.20264064e+08],\n",
       "       ...,\n",
       "       [1.00000000e+00, 2.76076256e+08],\n",
       "       [1.00000000e+00, 1.98836448e+08],\n",
       "       [0.00000000e+00, 8.07089950e+06]])"
      ]
     },
     "execution_count": 11,
     "metadata": {},
     "output_type": "execute_result"
    }
   ],
   "source": [
    "full_data"
   ]
  },
  {
   "cell_type": "markdown",
   "id": "f9c47b03",
   "metadata": {},
   "source": [
    "### Split data into train, validation, and test set"
   ]
  },
  {
   "cell_type": "code",
   "execution_count": 7,
   "id": "b0728e04",
   "metadata": {},
   "outputs": [],
   "source": [
    "seed1 = 5642556\n",
    "seed2 = 7196865\n",
    "\n",
    "# n_max_file = 10000    # 1M samples per file\n",
    "n_max_file = 10000000    # 10M samples per file\n",
    "\n",
    "out_dir_base = '/scratch/08317/tg876168/dataset/m12i-lsr-0-stellar-mass'"
   ]
  },
  {
   "cell_type": "code",
   "execution_count": 8,
   "id": "1acb1fce",
   "metadata": {},
   "outputs": [],
   "source": [
    "for p in keys:\n",
    "    full_data = []\n",
    "    for sim_file in sim_files:\n",
    "        with h5py.File(sim_file, 'r') as input_f:\n",
    "            full_data.append(input_f[p][:])\n",
    "    full_data = np.concatenate(full_data)\n",
    "    \n",
    "    # split dataset into training and validation\n",
    "    train_data, val_data = train_test_split(\n",
    "        full_data, test_size=0.2, random_state=seed1, shuffle=True)\n",
    "    val_data, test_data = train_test_split(\n",
    "        val_data, test_size=0.5, random_state=seed2, shuffle=True)\n",
    "    \n",
    "    # write each dataset\n",
    "    for data, flag in zip(\n",
    "        (train_data, val_data, test_data), ('train', 'val', 'test')):\n",
    "        n_file = data.shape[0] // n_max_file + 1\n",
    "        \n",
    "        out_dir = os.path.join(out_dir_base, flag)     \n",
    "        os.makedirs(out_dir, exist_ok=True)\n",
    "        \n",
    "        for i in range(n_file):\n",
    "            file = os.path.join(out_dir, 'n{:02d}.hdf5'.format(i))\n",
    "            with h5py.File(file, 'a') as output_f:\n",
    "                # write sliced dataset to file\n",
    "                start = i * n_max_file\n",
    "                end = (i + 1) * n_max_file\n",
    "                output_f.create_dataset(p, data=data[start: end])"
   ]
  },
  {
   "cell_type": "code",
   "execution_count": 9,
   "id": "431e622a",
   "metadata": {},
   "outputs": [
    {
     "name": "stdout",
     "output_type": "stream",
     "text": [
      "train\n",
      "Number of class 0 samples: 6828\n",
      "Fraction of class 0 samples: 0.0279\n",
      "Number of class 1 samples: 238264\n",
      "Fraction of class 1 samples: 0.9721\n",
      "---------------\n",
      "val\n",
      "Number of class 0 samples: 829\n",
      "Fraction of class 0 samples: 0.0271\n",
      "Number of class 1 samples: 29808\n",
      "Fraction of class 1 samples: 0.9729\n",
      "---------------\n",
      "test\n",
      "Number of class 0 samples: 852\n",
      "Fraction of class 0 samples: 0.0278\n",
      "Number of class 1 samples: 29785\n",
      "Fraction of class 1 samples: 0.9722\n",
      "---------------\n"
     ]
    }
   ],
   "source": [
    "# print out the counts and fraction of in situ and accreted stars for each flag\n",
    "# we want to make sure each flag is drawn from the same distribution\n",
    "properties = {}\n",
    "\n",
    "for flag in ('train', 'val', 'test'):\n",
    "    files = sorted(glob.glob(os.path.join(out_dir_base, f'{flag}/*')))\n",
    "\n",
    "    labels = []\n",
    "    for file in files:\n",
    "        with h5py.File(file, 'r') as f:\n",
    "            labels.append(f['labels'][:])\n",
    "    labels = np.concatenate(labels)\n",
    "    n_total = len(labels)\n",
    "\n",
    "    print(flag)\n",
    "    temp = {}\n",
    "    for l in np.unique(labels):\n",
    "        n = int(np.sum(labels==l))\n",
    "        temp['n_{}'.format(l)] = n\n",
    "        temp['f_{}'.format(l)] = n / n_total\n",
    "        \n",
    "        print('Number of class {:d} samples: {:d}'.format(l, n))\n",
    "        print('Fraction of class {:d} samples: {:.4f}'.format(l, n / n_total))\n",
    "    \n",
    "    properties[flag] = temp\n",
    "                \n",
    "    print('---------------')\n",
    "\n",
    "\n",
    "with open(os.path.join(out_dir_base, 'properties.json'), 'w') as f:\n",
    "    json.dump(properties, f, indent=4)"
   ]
  },
  {
   "cell_type": "markdown",
   "id": "d9af1cc7",
   "metadata": {},
   "source": [
    "### Preprocessing dict\n",
    "During training, we will scale the training data such that for each feature, the mean and standard deviation is 0 and 1, respectively. We want to compute these values prior to training and store it somewhere such that it can be read easily (and quickly)."
   ]
  },
  {
   "cell_type": "code",
   "execution_count": 12,
   "id": "6745e71e",
   "metadata": {},
   "outputs": [
    {
     "name": "stdout",
     "output_type": "stream",
     "text": [
      "Keys: l\n",
      "Mean: -1.5467e+00\n",
      "stdv: 9.8288e+01\n",
      "----------------\n",
      "Keys: b\n",
      "Mean: 3.0008e+00\n",
      "stdv: 3.7832e+01\n",
      "----------------\n",
      "Keys: parallax\n",
      "Mean: 1.2507e+00\n",
      "stdv: 1.0972e+00\n",
      "----------------\n",
      "Keys: pmra\n",
      "Mean: -6.7181e+00\n",
      "stdv: 7.2136e+01\n",
      "----------------\n",
      "Keys: pmdec\n",
      "Mean: -3.5606e+01\n",
      "stdv: 8.2909e+01\n",
      "----------------\n",
      "Keys: radial_velocity\n",
      "Mean: -9.9484e+00\n",
      "stdv: 2.3880e+02\n",
      "----------------\n",
      "Keys: feh\n",
      "Mean: -1.5453e+00\n",
      "stdv: 5.0982e-01\n",
      "----------------\n"
     ]
    }
   ],
   "source": [
    "train_files = sorted(glob.glob(os.path.join(out_dir_base, 'train/*')))\n",
    "\n",
    "preprocess_dict = {}\n",
    "\n",
    "# loop over all keys and compute mean and stdv\n",
    "for p in keys:\n",
    "    if p == 'labels':\n",
    "        continue\n",
    "    data = []\n",
    "    for file in train_files:\n",
    "        with h5py.File(file, 'r') as f:\n",
    "            data.append(f[p][:])\n",
    "    data = np.concatenate(data)\n",
    "    \n",
    "    mean = np.nanmean(data)\n",
    "    stdv = np.nanstd(data)\n",
    "    \n",
    "    print(f'Keys: {p}')\n",
    "    print('Mean: {:.4e}'.format(mean))\n",
    "    print('stdv: {:.4e}'.format(stdv))\n",
    "    print('----------------')\n",
    "    \n",
    "    preprocess_dict[p] = {\n",
    "        'mean': float(mean), \n",
    "        'stdv': float(stdv),\n",
    "    }\n",
    "    \n",
    "with open(os.path.join(out_dir_base, 'preprocess.json'), 'w') as f:\n",
    "    json.dump(preprocess_dict, f, indent=4)"
   ]
  },
  {
   "cell_type": "markdown",
   "id": "2ac18a7c",
   "metadata": {},
   "source": [
    "### Radial velocity dataset\n",
    "For many stars, we do not have access to radial velocity information. We can apply a non-NaN cut on the radial velocity of our original dataset, but it is faster to create a second dataset with only stars that have radial velocity information (though it would take more disk space)."
   ]
  },
  {
   "cell_type": "code",
   "execution_count": 13,
   "id": "7894144a",
   "metadata": {},
   "outputs": [
    {
     "data": {
      "text/plain": [
       "'/scratch/08317/tg876168/dataset/m12i-lsr-0-stellar-mass-rv'"
      ]
     },
     "execution_count": 13,
     "metadata": {},
     "output_type": "execute_result"
    }
   ],
   "source": [
    "out_dir_base_rv = out_dir_base + '-rv'\n",
    "out_dir_base_rv"
   ]
  },
  {
   "cell_type": "code",
   "execution_count": 14,
   "id": "2232dca0",
   "metadata": {},
   "outputs": [
    {
     "name": "stdout",
     "output_type": "stream",
     "text": [
      "train\n",
      "Number of class 0 samples: 804\n",
      "Fraction of class 0 samples: 0.0238\n",
      "Number of class 1 samples: 32949\n",
      "Fraction of class 1 samples: 0.9762\n",
      "---------------\n",
      "Keys: l\n",
      "Mean: -1.8911e+00\n",
      "stdv: 9.8613e+01\n",
      "----------------\n",
      "Keys: b\n",
      "Mean: 3.1147e+00\n",
      "stdv: 3.7433e+01\n",
      "----------------\n",
      "Keys: parallax\n",
      "Mean: 1.4671e+00\n",
      "stdv: 1.8777e+00\n",
      "----------------\n",
      "Keys: pmra\n",
      "Mean: -7.2363e+00\n",
      "stdv: 1.0059e+02\n",
      "----------------\n",
      "Keys: pmdec\n",
      "Mean: -4.0649e+01\n",
      "stdv: 1.2383e+02\n",
      "----------------\n",
      "Keys: radial_velocity\n",
      "Mean: -9.9484e+00\n",
      "stdv: 2.3880e+02\n",
      "----------------\n",
      "Keys: feh\n",
      "Mean: -1.4937e+00\n",
      "stdv: 4.9026e-01\n",
      "----------------\n",
      "val\n",
      "Number of class 0 samples: 107\n",
      "Fraction of class 0 samples: 0.0249\n",
      "Number of class 1 samples: 4195\n",
      "Fraction of class 1 samples: 0.9751\n",
      "---------------\n",
      "test\n",
      "Number of class 0 samples: 102\n",
      "Fraction of class 0 samples: 0.0243\n",
      "Number of class 1 samples: 4092\n",
      "Fraction of class 1 samples: 0.9757\n",
      "---------------\n"
     ]
    }
   ],
   "source": [
    "# read in input files from the original dataset and copy them selectively\n",
    "# print out the counts and fraction of in situ and accreted stars for each flag\n",
    "# we want to make sure each flag is drawn from the same distribution\n",
    "properties = {}\n",
    "preprocess_dict = {}\n",
    "\n",
    "for flag in ('train', 'val', 'test'):\n",
    "    \n",
    "    # create a new dataset directory\n",
    "    out_dir = os.path.join(out_dir_base_rv, flag)\n",
    "    os.makedirs(out_dir, exist_ok=True)\n",
    "    \n",
    "    # iterate over all dataset files\n",
    "    in_files = sorted(glob.glob(os.path.join(out_dir_base, f'{flag}/*')))\n",
    "    for i, in_file in enumerate(in_files):\n",
    "        \n",
    "        out_file = os.path.join(out_dir, 'n{:02d}.hdf5'.format(i))\n",
    "        \n",
    "        with h5py.File(in_file, 'r') as input_f:\n",
    "            with h5py.File(out_file, 'w') as output_f:\n",
    "\n",
    "                # only consider stars with radial velocity information\n",
    "                rv = input_f['radial_velocity'][:]\n",
    "                rv_isnotnan = ~np.isnan(rv)\n",
    "            \n",
    "                for p in input_f.keys():\n",
    "                    output_f.create_dataset(p, data=input_f[p][rv_isnotnan])\n",
    "    \n",
    "    # recompute the number of in situ and accreted samples in the new dataset\n",
    "    labels = []\n",
    "    out_files = sorted(glob.glob(os.path.join(out_dir_base_rv, f'{flag}/*')))    \n",
    "    for file in out_files:\n",
    "        with h5py.File(file, 'r') as f:\n",
    "            labels.append(f['labels'][:])\n",
    "    labels = np.concatenate(labels)\n",
    "    n_total = len(labels)\n",
    "\n",
    "    print(flag)\n",
    "    temp = {}\n",
    "    for l in np.unique(labels):\n",
    "        n = int(np.sum(labels==l))\n",
    "        temp['n_{}'.format(l)] = n\n",
    "        temp['f_{}'.format(l)] = n / n_total\n",
    "        \n",
    "        print('Number of class {:d} samples: {:d}'.format(l, n))\n",
    "        print('Fraction of class {:d} samples: {:.4f}'.format(l, n / n_total))\n",
    "    \n",
    "    properties[flag] = temp\n",
    "                \n",
    "    print('---------------')\n",
    "\n",
    "    # if training data, we will also recompute the mean\n",
    "    # and standard deviation after the radial-velocity cut\n",
    "    if flag == 'train':\n",
    "        for p in keys:\n",
    "            if p == 'labels':\n",
    "                continue\n",
    "            data = []\n",
    "            for file in out_files:\n",
    "                with h5py.File(file, 'r') as f:\n",
    "                    data.append(f[p][:])\n",
    "            data = np.concatenate(data)\n",
    "            mean = np.nanmean(data)\n",
    "            stdv = np.nanstd(data)\n",
    "\n",
    "            print(f'Keys: {p}')\n",
    "            print('Mean: {:.4e}'.format(mean))\n",
    "            print('stdv: {:.4e}'.format(stdv))\n",
    "            print('----------------')\n",
    "\n",
    "            preprocess_dict[p] = {\n",
    "                'mean': float(mean), \n",
    "                'stdv': float(stdv),\n",
    "            }\n",
    "\n",
    "            \n",
    "# write dataset properties and preprocessing dict to JSON files in new directory\n",
    "with open(os.path.join(out_dir_base_rv, 'properties.json'), 'w') as f:\n",
    "    json.dump(properties, f, indent=4)\n",
    "with open(os.path.join(out_dir_base_rv, 'preprocess.json'), 'w') as f:\n",
    "    json.dump(preprocess_dict, f, indent=4)"
   ]
  },
  {
   "cell_type": "markdown",
   "id": "c1fd3917",
   "metadata": {},
   "source": [
    "## Split the dataset randomly by particles\n",
    "\n",
    "In this section, instead of splitting the dataset randomly by stars, we split it by particles. This helps prevent the network from simply remembering the properties of each merger. It's worth noting that one merger can contain multiple particles, so this method is not completely fool-proof."
   ]
  },
  {
   "cell_type": "code",
   "execution_count": 3,
   "id": "ce565845",
   "metadata": {},
   "outputs": [
    {
     "data": {
      "text/plain": [
       "['/scratch/08317/tg876168/ananke_subsamples/m12i/lsr-0/accreted_stellar_mass_all/lsr-0-rslice-0.m12i-res7100-subsamples.hdf5',\n",
       " '/scratch/08317/tg876168/ananke_subsamples/m12i/lsr-0/accreted_stellar_mass_all/lsr-0-rslice-1.m12i-res7100-subsamples.hdf5']"
      ]
     },
     "execution_count": 3,
     "metadata": {},
     "output_type": "execute_result"
    }
   ],
   "source": [
    "# sim_dir = '/scratch/08317/tg876168/ananke_subsamples/m12i/lsr-0/'\n",
    "sim_dir = '/scratch/08317/tg876168/ananke_subsamples/m12i/lsr-0/accreted_stellar_mass_all/'\n",
    "sim_files = sorted(glob.glob(os.path.join(sim_dir, '*.hdf5')))\n",
    "sim_files"
   ]
  },
  {
   "cell_type": "code",
   "execution_count": 4,
   "id": "eb8cc32c",
   "metadata": {},
   "outputs": [
    {
     "name": "stdout",
     "output_type": "stream",
     "text": [
      "['b', 'dec', 'feh', 'l', 'labels', 'parallax', 'parallax_over_error', 'parentid', 'pmdec', 'pmra', 'px_true', 'py_true', 'pz_true', 'ra', 'radial_velocity', 'source_id', 'vx_true', 'vy_true', 'vz_true']\n",
      "411177\n",
      "['b', 'dec', 'feh', 'l', 'labels', 'parallax', 'parallax_over_error', 'parentid', 'pmdec', 'pmra', 'px_true', 'py_true', 'pz_true', 'ra', 'radial_velocity', 'source_id', 'vx_true', 'vy_true', 'vz_true']\n",
      "53\n"
     ]
    }
   ],
   "source": [
    "for i_file in range(len(sim_files)):\n",
    "    with h5py.File(sim_files[i_file], 'r') as f:\n",
    "        print(list(f.keys()))\n",
    "        print(f['ra'].len())"
   ]
  },
  {
   "cell_type": "code",
   "execution_count": 5,
   "id": "d6d1889e",
   "metadata": {},
   "outputs": [],
   "source": [
    "keys = ('l', 'b', 'parallax', 'pmra', 'pmdec', 'radial_velocity', 'feh', 'labels')"
   ]
  },
  {
   "cell_type": "code",
   "execution_count": 6,
   "id": "df1ae9bc",
   "metadata": {},
   "outputs": [],
   "source": [
    "seed1 = 5642556\n",
    "seed2 = 7196865\n",
    "\n",
    "# n_max_file = 10000    # 1M samples per file\n",
    "n_max_file = 10000000    # 10M samples per file\n",
    "\n",
    "out_dir_base = '/scratch/08317/tg876168/dataset/accreted_stellar_mass_all/dset-particles'"
   ]
  },
  {
   "cell_type": "code",
   "execution_count": 9,
   "id": "c521d12d",
   "metadata": {},
   "outputs": [],
   "source": [
    "# from the simulation files, read in the parentid of each star\n",
    "# the parentid determines the stream/cluster the star originally belong too in FIRE\n",
    "parentid = []\n",
    "labels = []\n",
    "for sim_file in sim_files:\n",
    "    with h5py.File(sim_file, 'r') as input_f:\n",
    "        parentid.append(input_f['parentid'][:])\n",
    "        labels.append(input_f['labels'][:])\n",
    "parentid = np.concatenate(parentid)\n",
    "labels = np.concatenate(labels)\n",
    "\n",
    "# also read in the mass of each parentid\n",
    "with h5py.File('/scratch/08317/tg876168/labels_mapping/accreted_stellar_mass_all.hdf5', 'r') as f:\n",
    "    mass = 10**f['log10_halo_stellar_mass'][:]\n",
    "    particle_id = f['id_stars'][:]\n",
    "    merger_count = f['merger_count'][:]\n",
    "    \n",
    "    sort = np.argsort(particle_id)\n",
    "    particle_id = particle_id[sort]\n",
    "    mass = mass[sort]\n",
    "    \n",
    "    thres = f.attrs['threshold']"
   ]
  },
  {
   "cell_type": "code",
   "execution_count": 11,
   "id": "469f3f69",
   "metadata": {},
   "outputs": [],
   "source": [
    "# get unique parent id\n",
    "unique, counts = np.unique(parentid, return_counts=True)\n",
    "\n",
    "# shuffle \n",
    "shuffle = np.random.permutation(len(unique))\n",
    "unique = unique[shuffle]\n",
    "counts = counts[shuffle]\n",
    "cum_counts = np.cumsum(counts)\n",
    "\n",
    "# calculate the number of stars in each dataset and split\n",
    "N_total = len(labels)\n",
    "N_val = int(N_total * 0.1)\n",
    "N_test = int(N_total * 0.1)\n",
    "N_train = N_total - N_val - N_test\n",
    "\n",
    "# partition parentid into train, val, test dataset \n",
    "part = []\n",
    "part.append(np.where(cum_counts > N_train)[0][0])\n",
    "part.append(np.where(cum_counts > N_train + N_val)[0][0])\n",
    "part_parentid = {\n",
    "    'train': unique[: part[0]],\n",
    "    'val': unique[part[0]: part[1]],\n",
    "    'test': unique[part[1]:]\n",
    "}\n",
    "\n",
    "# get the index of each star in each dataset\n",
    "train_idx = np.array([i for i in range(len(parentid)) \n",
    "                      if parentid[i] in part_parentid['train']])\n",
    "val_idx = np.array([i for i in range(len(parentid)) \n",
    "                    if parentid[i] in part_parentid['val']])\n",
    "test_idx = np.array([i for i in range(len(parentid)) \n",
    "                     if parentid[i] in part_parentid['test']])"
   ]
  },
  {
   "cell_type": "markdown",
   "id": "10d3b644",
   "metadata": {},
   "source": [
    "First, we want to check the mass distribution of the particles for each dataset"
   ]
  },
  {
   "cell_type": "code",
   "execution_count": 14,
   "id": "8bf3f17c",
   "metadata": {},
   "outputs": [],
   "source": [
    "# we want to check the mass distribution of the particle for each set\n",
    "train_mass = np.array([mass[i] for i in range(len(particle_id)) \n",
    "                       if particle_id[i] in part_parentid['train']])\n",
    "val_mass = np.array([mass[i] for i in range(len(particle_id)) \n",
    "                       if particle_id[i] in part_parentid['val']])\n",
    "test_mass = np.array([mass[i] for i in range(len(particle_id)) \n",
    "                       if particle_id[i] in part_parentid['test']])"
   ]
  },
  {
   "cell_type": "code",
   "execution_count": 15,
   "id": "1184790c",
   "metadata": {},
   "outputs": [
    {
     "data": {
      "image/png": "[encoded data removed]",
      "text/plain": [
       "<Figure size 576x432 with 1 Axes>"
      ]
     },
     "metadata": {
      "needs_background": "light"
     },
     "output_type": "display_data"
    }
   ],
   "source": [
    "fig, ax = plt.subplots(1)\n",
    "\n",
    "bins = 10**np.linspace(4, 9, 30)\n",
    "\n",
    "# train\n",
    "counts, bins = np.histogram(train_mass, bins)\n",
    "counts = counts / np.sum(counts)  # normalize by the total number (not the area)\n",
    "ax.hist(bins[:-1], bins, weights=counts, histtype='step', \n",
    "        lw=2, zorder=10, color='k', alpha=0.9, ls='--', label='train')\n",
    "\n",
    "# val\n",
    "counts, bins = np.histogram(val_mass, bins)\n",
    "counts = counts / np.sum(counts)  # normalize by the total number (not the area)\n",
    "ax.hist(bins[:-1], bins, weights=counts,\n",
    "        lw=2, zorder=8, alpha=0.7, ls='--', label='val')\n",
    "\n",
    "# # test\n",
    "# counts, bins = np.histogram(test_mass, bins)\n",
    "# counts = counts / np.sum(counts)  # normalize by the total number (not the area)\n",
    "# ax.hist(bins[:-1], bins, weights=counts, histtype='step', \n",
    "#         lw=2, zorder=9, color='r', label='test')\n",
    "\n",
    "# format axis and figure\n",
    "ax.axvline(thres, color='k', ls='--')\n",
    "ax.set_xscale('log')\n",
    "ax.set_yscale('log')\n",
    "ax.set_xlabel(r'Subhalo Mass [$M_\\odot$]')\n",
    "ax.set_ylabel('Counts')\n",
    "\n",
    "ax.legend()\n",
    "\n",
    "fig.tight_layout()"
   ]
  },
  {
   "cell_type": "markdown",
   "id": "34d107ac",
   "metadata": {},
   "source": [
    "Because everything seems right, we begin split the dataset using the split above."
   ]
  },
  {
   "cell_type": "code",
   "execution_count": 16,
   "id": "25b304f6",
   "metadata": {},
   "outputs": [],
   "source": [
    "for p in keys:\n",
    "    full_data = []\n",
    "    for sim_file in sim_files:\n",
    "        with h5py.File(sim_file, 'r') as input_f:\n",
    "            full_data.append(input_f[p][:])\n",
    "    full_data = np.concatenate(full_data)\n",
    "    \n",
    "    # quick fix for label\n",
    "    # TODO: find a perma fix\n",
    "    if p == 'labels':\n",
    "        full_data = full_data[:, 0]\n",
    "\n",
    "    \n",
    "    # split the dataset into training, validation, and test set    \n",
    "    train_data = full_data[train_idx]\n",
    "    val_data = full_data[val_idx]\n",
    "    test_data = full_data[test_idx]\n",
    "    \n",
    "    # write each dataset\n",
    "    for data, flag in zip(\n",
    "        (train_data, val_data, test_data), ('train', 'val', 'test')):\n",
    "        n_file = data.shape[0] // n_max_file + 1\n",
    "        \n",
    "        out_dir = os.path.join(out_dir_base, flag)     \n",
    "        os.makedirs(out_dir, exist_ok=True)\n",
    "        \n",
    "        for i in range(n_file):\n",
    "            file = os.path.join(out_dir, 'n{:02d}.hdf5'.format(i))\n",
    "            with h5py.File(file, 'a') as output_f:\n",
    "                # write sliced dataset to file\n",
    "                start = i * n_max_file\n",
    "                end = (i + 1) * n_max_file\n",
    "                output_f.create_dataset(p, data=data[start: end])"
   ]
  },
  {
   "cell_type": "code",
   "execution_count": 17,
   "id": "d822f00b",
   "metadata": {},
   "outputs": [
    {
     "name": "stdout",
     "output_type": "stream",
     "text": [
      "train\n",
      "Number of class 0 samples: 15855\n",
      "Fraction of class 0 samples: 0.0482\n",
      "Number of class 1 samples: 313059\n",
      "Fraction of class 1 samples: 0.9518\n",
      "---------------\n",
      "val\n",
      "Number of class 0 samples: 1485\n",
      "Fraction of class 0 samples: 0.0361\n",
      "Number of class 1 samples: 39602\n",
      "Fraction of class 1 samples: 0.9639\n",
      "---------------\n",
      "test\n",
      "Number of class 0 samples: 2633\n",
      "Fraction of class 0 samples: 0.0639\n",
      "Number of class 1 samples: 38596\n",
      "Fraction of class 1 samples: 0.9361\n",
      "---------------\n"
     ]
    }
   ],
   "source": [
    "# print out the counts and fraction of in situ and accreted stars for each flag\n",
    "# we want to make sure each flag is drawn from the same distribution\n",
    "properties = {}\n",
    "\n",
    "for flag in ('train', 'val', 'test'):\n",
    "    files = sorted(glob.glob(os.path.join(out_dir_base, f'{flag}/*')))\n",
    "\n",
    "    labels = []\n",
    "    for file in files:\n",
    "        with h5py.File(file, 'r') as f:\n",
    "            labels.append(f['labels'][:])\n",
    "    labels = np.concatenate(labels)\n",
    "    n_total = len(labels)\n",
    "\n",
    "    print(flag)\n",
    "    temp = {}\n",
    "    for l in np.unique(labels):\n",
    "        l = int(l)\n",
    "        n = int(np.sum(labels==l))\n",
    "        temp['n_{}'.format(l)] = n\n",
    "        temp['f_{}'.format(l)] = n / n_total\n",
    "        \n",
    "        print('Number of class {:d} samples: {:d}'.format(l, n))\n",
    "        print('Fraction of class {:d} samples: {:.4f}'.format(l, n / n_total))\n",
    "    \n",
    "    properties[flag] = temp\n",
    "                \n",
    "    print('---------------')\n",
    "\n",
    "\n",
    "with open(os.path.join(out_dir_base, 'properties.json'), 'w') as f:\n",
    "    json.dump(properties, f, indent=4)"
   ]
  },
  {
   "cell_type": "code",
   "execution_count": 18,
   "id": "23a0598e",
   "metadata": {},
   "outputs": [
    {
     "name": "stdout",
     "output_type": "stream",
     "text": [
      "Keys: l\n",
      "Mean: -2.0830e+00\n",
      "stdv: 9.9275e+01\n",
      "----------------\n",
      "Keys: b\n",
      "Mean: 2.1444e+00\n",
      "stdv: 3.8874e+01\n",
      "----------------\n",
      "Keys: parallax\n",
      "Mean: 1.1575e+00\n",
      "stdv: 9.7349e-01\n",
      "----------------\n",
      "Keys: pmra\n",
      "Mean: -4.1569e+00\n",
      "stdv: 6.3547e+01\n",
      "----------------\n",
      "Keys: pmdec\n",
      "Mean: -3.4238e+01\n",
      "stdv: 7.0146e+01\n",
      "----------------\n",
      "Keys: radial_velocity\n",
      "Mean: -1.8132e+00\n",
      "stdv: 2.2436e+02\n",
      "----------------\n",
      "Keys: feh\n",
      "Mean: -1.6138e+00\n",
      "stdv: 5.2611e-01\n",
      "----------------\n"
     ]
    }
   ],
   "source": [
    "train_files = sorted(glob.glob(os.path.join(out_dir_base, 'train/*')))\n",
    "\n",
    "preprocess_dict = {}\n",
    "\n",
    "# loop over all keys and compute mean and stdv\n",
    "for p in keys:\n",
    "    if p == 'labels':\n",
    "        continue\n",
    "    data = []\n",
    "    for file in train_files:\n",
    "        with h5py.File(file, 'r') as f:\n",
    "            data.append(f[p][:])\n",
    "    data = np.concatenate(data)\n",
    "    \n",
    "    mean = np.nanmean(data)\n",
    "    stdv = np.nanstd(data)\n",
    "    \n",
    "    print(f'Keys: {p}')\n",
    "    print('Mean: {:.4e}'.format(mean))\n",
    "    print('stdv: {:.4e}'.format(stdv))\n",
    "    print('----------------')\n",
    "    \n",
    "    preprocess_dict[p] = {\n",
    "        'mean': float(mean), \n",
    "        'stdv': float(stdv),\n",
    "    }\n",
    "    \n",
    "with open(os.path.join(out_dir_base, 'preprocess.json'), 'w') as f:\n",
    "    json.dump(preprocess_dict, f, indent=4)"
   ]
  },
  {
   "cell_type": "markdown",
   "id": "f0bc8174",
   "metadata": {},
   "source": [
    "### Radial velocity dataset"
   ]
  },
  {
   "cell_type": "code",
   "execution_count": 19,
   "id": "9f1a13e3",
   "metadata": {},
   "outputs": [
    {
     "data": {
      "text/plain": [
       "'/scratch/08317/tg876168/dataset/accreted_stellar_mass_all/dset-particles-rv'"
      ]
     },
     "execution_count": 19,
     "metadata": {},
     "output_type": "execute_result"
    }
   ],
   "source": [
    "out_dir_base_rv = out_dir_base + '-rv'\n",
    "out_dir_base_rv"
   ]
  },
  {
   "cell_type": "code",
   "execution_count": 20,
   "id": "98c88944",
   "metadata": {},
   "outputs": [
    {
     "name": "stdout",
     "output_type": "stream",
     "text": [
      "train\n",
      "Number of class 0 samples: 1970\n",
      "Fraction of class 0 samples: 0.0435\n",
      "Number of class 1 samples: 43325\n",
      "Fraction of class 1 samples: 0.9565\n",
      "---------------\n",
      "Keys: l\n",
      "Mean: -2.1842e+00\n",
      "stdv: 9.9242e+01\n",
      "----------------\n",
      "Keys: b\n",
      "Mean: 2.2438e+00\n",
      "stdv: 3.8612e+01\n",
      "----------------\n",
      "Keys: parallax\n",
      "Mean: 1.2926e+00\n",
      "stdv: 1.5820e+00\n",
      "----------------\n",
      "Keys: pmra\n",
      "Mean: -4.0748e+00\n",
      "stdv: 8.6690e+01\n",
      "----------------\n",
      "Keys: pmdec\n",
      "Mean: -3.8248e+01\n",
      "stdv: 9.6884e+01\n",
      "----------------\n",
      "Keys: radial_velocity\n",
      "Mean: -1.8132e+00\n",
      "stdv: 2.2436e+02\n",
      "----------------\n",
      "Keys: feh\n",
      "Mean: -1.5666e+00\n",
      "stdv: 5.1834e-01\n",
      "----------------\n",
      "val\n",
      "Number of class 0 samples: 176\n",
      "Fraction of class 0 samples: 0.0292\n",
      "Number of class 1 samples: 5848\n",
      "Fraction of class 1 samples: 0.9708\n",
      "---------------\n",
      "test\n",
      "Number of class 0 samples: 325\n",
      "Fraction of class 0 samples: 0.0553\n",
      "Number of class 1 samples: 5555\n",
      "Fraction of class 1 samples: 0.9447\n",
      "---------------\n"
     ]
    }
   ],
   "source": [
    "# read in input files from the original dataset and copy them selectively\n",
    "# print out the counts and fraction of in situ and accreted stars for each flag\n",
    "# we want to make sure each flag is drawn from the same distribution\n",
    "properties = {}\n",
    "preprocess_dict = {}\n",
    "\n",
    "for flag in ('train', 'val', 'test'):\n",
    "    \n",
    "    # create a new dataset directory\n",
    "    out_dir = os.path.join(out_dir_base_rv, flag)\n",
    "    os.makedirs(out_dir, exist_ok=True)\n",
    "    \n",
    "    # iterate over all dataset files\n",
    "    in_files = sorted(glob.glob(os.path.join(out_dir_base, f'{flag}/*')))\n",
    "    for i, in_file in enumerate(in_files):\n",
    "        \n",
    "        out_file = os.path.join(out_dir, 'n{:02d}.hdf5'.format(i))\n",
    "        \n",
    "        with h5py.File(in_file, 'r') as input_f:\n",
    "            with h5py.File(out_file, 'w') as output_f:\n",
    "\n",
    "                # only consider stars with radial velocity information\n",
    "                rv = input_f['radial_velocity'][:]\n",
    "                rv_isnotnan = ~np.isnan(rv)\n",
    "            \n",
    "                for p in input_f.keys():\n",
    "                    output_f.create_dataset(p, data=input_f[p][rv_isnotnan])\n",
    "    \n",
    "    # recompute the number of in situ and accreted samples in the new dataset\n",
    "    labels = []\n",
    "    out_files = sorted(glob.glob(os.path.join(out_dir_base_rv, f'{flag}/*')))    \n",
    "    for file in out_files:\n",
    "        with h5py.File(file, 'r') as f:\n",
    "            labels.append(f['labels'][:])\n",
    "    labels = np.concatenate(labels)\n",
    "    n_total = len(labels)\n",
    "\n",
    "    print(flag)\n",
    "    temp = {}\n",
    "    for l in np.unique(labels):\n",
    "        l = int(l)\n",
    "        n = int(np.sum(labels==l))\n",
    "        temp['n_{}'.format(l)] = n\n",
    "        temp['f_{}'.format(l)] = n / n_total\n",
    "        \n",
    "        print('Number of class {:d} samples: {:d}'.format(l, n))\n",
    "        print('Fraction of class {:d} samples: {:.4f}'.format(l, n / n_total))\n",
    "    \n",
    "    properties[flag] = temp\n",
    "                \n",
    "    print('---------------')\n",
    "\n",
    "    # if training data, we will also recompute the mean\n",
    "    # and standard deviation after the radial-velocity cut\n",
    "    if flag == 'train':\n",
    "        for p in keys:\n",
    "            if p == 'labels':\n",
    "                continue\n",
    "            data = []\n",
    "            for file in out_files:\n",
    "                with h5py.File(file, 'r') as f:\n",
    "                    data.append(f[p][:])\n",
    "            data = np.concatenate(data)\n",
    "            mean = np.nanmean(data)\n",
    "            stdv = np.nanstd(data)\n",
    "\n",
    "            print(f'Keys: {p}')\n",
    "            print('Mean: {:.4e}'.format(mean))\n",
    "            print('stdv: {:.4e}'.format(stdv))\n",
    "            print('----------------')\n",
    "\n",
    "            preprocess_dict[p] = {\n",
    "                'mean': float(mean), \n",
    "                'stdv': float(stdv),\n",
    "            }\n",
    "\n",
    "            \n",
    "# write dataset properties and preprocessing dict to JSON files in new directory\n",
    "with open(os.path.join(out_dir_base_rv, 'properties.json'), 'w') as f:\n",
    "    json.dump(properties, f, indent=4)\n",
    "with open(os.path.join(out_dir_base_rv, 'preprocess.json'), 'w') as f:\n",
    "    json.dump(preprocess_dict, f, indent=4)"
   ]
  },
  {
   "cell_type": "code",
   "execution_count": null,
   "id": "be8c0b01",
   "metadata": {},
   "outputs": [],
   "source": []
  }
 ],
 "metadata": {
  "kernelspec": {
   "display_name": "Python 3",
   "language": "python",
   "name": "python3"
  },
  "language_info": {
   "codemirror_mode": {
    "name": "ipython",
    "version": 3
   },
   "file_extension": ".py",
   "mimetype": "text/x-python",
   "name": "python",
   "nbconvert_exporter": "python",
   "pygments_lexer": "ipython3",
   "version": "3.7.11"
  }
 },
 "nbformat": 4,
 "nbformat_minor": 5
}
